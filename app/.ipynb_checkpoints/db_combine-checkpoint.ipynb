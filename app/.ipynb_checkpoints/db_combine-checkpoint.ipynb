{
 "cells": [
  {
   "cell_type": "code",
   "execution_count": 83,
   "metadata": {
    "collapsed": false
   },
   "outputs": [],
   "source": [
    "import os, sqlite3, copy, numpy as np, trueskill as ts, pandas as pd"
   ]
  },
  {
   "cell_type": "code",
   "execution_count": 101,
   "metadata": {
    "collapsed": true
   },
   "outputs": [],
   "source": [
    "class SimpleDB(object):\n",
    "    def __init__(self, db_address):\n",
    "        self._address = db_address\n",
    "        self._engine = sqlite3.connect(self._address)\n",
    "    \n",
    "    def execute(self, sql_str, variables=None):\n",
    "        if not variables:\n",
    "            return self._engine.cursor().execute(sql_str).fetchall()\n",
    "        else:\n",
    "            v = tuple(variables)\n",
    "            return self._engine.cursor().execute(sql_str, v).fetchall()"
   ]
  },
  {
   "cell_type": "code",
   "execution_count": 102,
   "metadata": {
    "collapsed": true
   },
   "outputs": [],
   "source": [
    "db_address = 'database/20160614_final_pairwise_comparisons_luke.db'\n",
    "m_lp = SimpleDB(db_address)\n",
    "db_address = 'database/20160614_final_pairwise_comparisons_alina.db'\n",
    "m_ab = SimpleDB(db_address)"
   ]
  },
  {
   "cell_type": "code",
   "execution_count": 103,
   "metadata": {
    "collapsed": false
   },
   "outputs": [],
   "source": [
    "vids_lp = m_lp.execute('SELECT video_id, filepath FROM videos')\n",
    "vids_ab = m_ab.execute('SELECT video_id, filepath FROM videos')\n",
    "vids_ab = [(r[0], r[1][2:]) for r in vids_ab] #alina has the static dir somewhere else\n",
    "comps_lp_raw = m_lp.execute('SELECT * FROM comparisons')\n",
    "comps_ab_raw = m_ab.execute('SELECT * FROM comparisons')"
   ]
  },
  {
   "cell_type": "code",
   "execution_count": 90,
   "metadata": {
    "collapsed": false
   },
   "outputs": [],
   "source": [
    "#add user_id and license booleanto each comparison (in both tables...)\n",
    "comps_lp = []\n",
    "comps_ab = []\n",
    "sql_str = '''SELECT username, license FROM users \n",
    "             WHERE user_id = (SELECT user_id FROM sessions WHERE suuid = ? LIMIT 1)'''\n",
    "for comp in comps_lp_raw:\n",
    "    suuid = comp[4]\n",
    "    u_info = m_lp.execute(sql_str, (suuid,))[0]\n",
    "    new_comp = list(comp) + list(u_info)\n",
    "    comps_lp.append(tuple(new_comp))\n",
    "for comp in comps_ab_raw:\n",
    "    suuid = comp[4]\n",
    "    u_info = m_ab.execute(sql_str, (suuid,))[0]\n",
    "    new_comp = list(comp) + list(u_info)\n",
    "    comps_ab.append(tuple(new_comp))"
   ]
  },
  {
   "cell_type": "code",
   "execution_count": 91,
   "metadata": {
    "collapsed": false
   },
   "outputs": [],
   "source": [
    "#find mapping between the two video ids (AB version as 'true'), based on filepath\n",
    "vids_fpath_list_lp = [r[1] for r in vids_lp]\n",
    "id_map = {} #mapping from LP (col1) to AB (col2)\n",
    "for entry in vids_ab:\n",
    "    fpath = entry[1]\n",
    "    id_in_ab = entry[0]\n",
    "    ind_in_lp = vids_fpath_list_lp.index(fpath)\n",
    "    id_in_lp = vids_lp[ind_in_lp][0] # should be equivalent to +1\n",
    "    id_map[id_in_lp] = id_in_ab"
   ]
  },
  {
   "cell_type": "code",
   "execution_count": 92,
   "metadata": {
    "collapsed": false
   },
   "outputs": [],
   "source": [
    "#traverse the comparisons builoding new comps_lp video\n",
    "new_comps_lp = []\n",
    "first_comp_id = comps_ab[-1][0] + 1\n",
    "for new_comp_id, comp in enumerate(comps_lp, start=first_comp_id):\n",
    "    id_v1 = comp[1]\n",
    "    id_v2 = comp[2]\n",
    "    id_winner = comp[3]\n",
    "    new_comp_tuple = (new_comp_id, id_map[id_v1], id_map[id_v2], id_map[id_winner], comp[4], comp[5], comp[6])\n",
    "    new_comps_lp.append(new_comp_tuple)\n",
    "    \n",
    "#add the two comps list\n",
    "full_comps = comps_ab + new_comps_lp"
   ]
  },
  {
   "cell_type": "code",
   "execution_count": 93,
   "metadata": {
    "collapsed": false
   },
   "outputs": [],
   "source": [
    "#insert username and licnse into the comps\n",
    "df_comps = pd.DataFrame(full_comps, columns=['comp_id', 'v1', 'v2', 'winner', 'suuid', 'username', 'license'])"
   ]
  },
  {
   "cell_type": "code",
   "execution_count": 94,
   "metadata": {
    "collapsed": false
   },
   "outputs": [
    {
     "data": {
      "text/html": [
       "<div>\n",
       "<table border=\"1\" class=\"dataframe\">\n",
       "  <thead>\n",
       "    <tr style=\"text-align: right;\">\n",
       "      <th></th>\n",
       "      <th>comp_id</th>\n",
       "      <th>v1</th>\n",
       "      <th>v2</th>\n",
       "      <th>winner</th>\n",
       "      <th>suuid</th>\n",
       "      <th>username</th>\n",
       "      <th>license</th>\n",
       "    </tr>\n",
       "  </thead>\n",
       "  <tbody>\n",
       "    <tr>\n",
       "      <th>0</th>\n",
       "      <td>1</td>\n",
       "      <td>35</td>\n",
       "      <td>125</td>\n",
       "      <td>35</td>\n",
       "      <td>5a4d97a5-31ad-41d9-8a3f-9328291fb820</td>\n",
       "      <td>alina</td>\n",
       "      <td>1</td>\n",
       "    </tr>\n",
       "    <tr>\n",
       "      <th>1</th>\n",
       "      <td>2</td>\n",
       "      <td>105</td>\n",
       "      <td>34</td>\n",
       "      <td>105</td>\n",
       "      <td>3af14cf9-9880-4f25-9a85-3a4b0064e96b</td>\n",
       "      <td>alina_u1</td>\n",
       "      <td>1</td>\n",
       "    </tr>\n",
       "    <tr>\n",
       "      <th>2</th>\n",
       "      <td>3</td>\n",
       "      <td>98</td>\n",
       "      <td>78</td>\n",
       "      <td>78</td>\n",
       "      <td>3af14cf9-9880-4f25-9a85-3a4b0064e96b</td>\n",
       "      <td>alina_u1</td>\n",
       "      <td>1</td>\n",
       "    </tr>\n",
       "    <tr>\n",
       "      <th>3</th>\n",
       "      <td>4</td>\n",
       "      <td>81</td>\n",
       "      <td>49</td>\n",
       "      <td>49</td>\n",
       "      <td>3af14cf9-9880-4f25-9a85-3a4b0064e96b</td>\n",
       "      <td>alina_u1</td>\n",
       "      <td>1</td>\n",
       "    </tr>\n",
       "    <tr>\n",
       "      <th>4</th>\n",
       "      <td>5</td>\n",
       "      <td>99</td>\n",
       "      <td>22</td>\n",
       "      <td>22</td>\n",
       "      <td>3af14cf9-9880-4f25-9a85-3a4b0064e96b</td>\n",
       "      <td>alina_u1</td>\n",
       "      <td>1</td>\n",
       "    </tr>\n",
       "  </tbody>\n",
       "</table>\n",
       "</div>"
      ],
      "text/plain": [
       "   comp_id   v1   v2  winner                                 suuid  username  \\\n",
       "0        1   35  125      35  5a4d97a5-31ad-41d9-8a3f-9328291fb820     alina   \n",
       "1        2  105   34     105  3af14cf9-9880-4f25-9a85-3a4b0064e96b  alina_u1   \n",
       "2        3   98   78      78  3af14cf9-9880-4f25-9a85-3a4b0064e96b  alina_u1   \n",
       "3        4   81   49      49  3af14cf9-9880-4f25-9a85-3a4b0064e96b  alina_u1   \n",
       "4        5   99   22      22  3af14cf9-9880-4f25-9a85-3a4b0064e96b  alina_u1   \n",
       "\n",
       "   license  \n",
       "0        1  \n",
       "1        1  \n",
       "2        1  \n",
       "3        1  \n",
       "4        1  "
      ]
     },
     "execution_count": 94,
     "metadata": {},
     "output_type": "execute_result"
    }
   ],
   "source": [
    "df_comps.head()"
   ]
  },
  {
   "cell_type": "code",
   "execution_count": 96,
   "metadata": {
    "collapsed": false
   },
   "outputs": [],
   "source": [
    "df_vids = pd.DataFrame(vids_ab, columns=['video_id', 'filepath'])"
   ]
  },
  {
   "cell_type": "code",
   "execution_count": 98,
   "metadata": {
    "collapsed": false
   },
   "outputs": [
    {
     "data": {
      "text/html": [
       "<div>\n",
       "<table border=\"1\" class=\"dataframe\">\n",
       "  <thead>\n",
       "    <tr style=\"text-align: right;\">\n",
       "      <th></th>\n",
       "      <th>video_id</th>\n",
       "      <th>filepath</th>\n",
       "    </tr>\n",
       "  </thead>\n",
       "  <tbody>\n",
       "    <tr>\n",
       "      <th>125</th>\n",
       "      <td>126</td>\n",
       "      <td>/static/videos/set09_V010_731_2_2.mp4</td>\n",
       "    </tr>\n",
       "    <tr>\n",
       "      <th>126</th>\n",
       "      <td>127</td>\n",
       "      <td>/static/videos/set10_V006_1734_0_1.mp4</td>\n",
       "    </tr>\n",
       "    <tr>\n",
       "      <th>127</th>\n",
       "      <td>128</td>\n",
       "      <td>/static/videos/set10_V007_1423_0_3.mp4</td>\n",
       "    </tr>\n",
       "    <tr>\n",
       "      <th>128</th>\n",
       "      <td>129</td>\n",
       "      <td>/static/videos/set10_V008_753_3_3.mp4</td>\n",
       "    </tr>\n",
       "    <tr>\n",
       "      <th>129</th>\n",
       "      <td>130</td>\n",
       "      <td>/static/videos/set10_V011_638_3_3.mp4</td>\n",
       "    </tr>\n",
       "  </tbody>\n",
       "</table>\n",
       "</div>"
      ],
      "text/plain": [
       "     video_id                                filepath\n",
       "125       126   /static/videos/set09_V010_731_2_2.mp4\n",
       "126       127  /static/videos/set10_V006_1734_0_1.mp4\n",
       "127       128  /static/videos/set10_V007_1423_0_3.mp4\n",
       "128       129   /static/videos/set10_V008_753_3_3.mp4\n",
       "129       130   /static/videos/set10_V011_638_3_3.mp4"
      ]
     },
     "execution_count": 98,
     "metadata": {},
     "output_type": "execute_result"
    }
   ],
   "source": [
    "df_vids.tail()"
   ]
  },
  {
   "cell_type": "code",
   "execution_count": 100,
   "metadata": {
    "collapsed": true
   },
   "outputs": [],
   "source": [
    "#save these tables here\n",
    "df_comps.to_csv('full_comparisons_table_wuserinfo.csv')\n",
    "df_vids.to_csv('video_filepath_map.csv')"
   ]
  },
  {
   "cell_type": "code",
   "execution_count": null,
   "metadata": {
    "collapsed": true
   },
   "outputs": [],
   "source": []
  }
 ],
 "metadata": {
  "kernelspec": {
   "display_name": "Python 2",
   "language": "python",
   "name": "python2"
  },
  "language_info": {
   "codemirror_mode": {
    "name": "ipython",
    "version": 2
   },
   "file_extension": ".py",
   "mimetype": "text/x-python",
   "name": "python",
   "nbconvert_exporter": "python",
   "pygments_lexer": "ipython2",
   "version": "2.7.11"
  }
 },
 "nbformat": 4,
 "nbformat_minor": 0
}
